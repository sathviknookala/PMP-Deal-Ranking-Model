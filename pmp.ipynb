{
 "cells": [
  {
   "cell_type": "code",
   "execution_count": 4,
   "metadata": {},
   "outputs": [],
   "source": [
    "import torch\n",
    "import torch.nn as nn\n",
    "import torch.optim as optim\n",
    "import pandas as pd\n",
    "import numpy as np\n",
    "import sklearn\n",
    "from sklearn.model_selection import train_test_split\n",
    "from sklearn.preprocessing import StandardScaler\n",
    "from sklearn.metrics import roc_auc_score, confusion_matrix, classification_report\n"
   ]
  },
  {
   "cell_type": "code",
   "execution_count": 8,
   "metadata": {},
   "outputs": [
    {
     "name": "stdout",
     "output_type": "stream",
     "text": [
      "mps:0\n"
     ]
    }
   ],
   "source": [
    "device = torch.device(\"mps\" if torch.backends.mps.is_available() else \"cpu\")"
   ]
  },
  {
   "cell_type": "code",
   "execution_count": 15,
   "metadata": {},
   "outputs": [
    {
     "name": "stdout",
     "output_type": "stream",
     "text": [
      "  imp_id     site_domain  ad_size geo  hour device_type       user_segment  \\\n",
      "0  imp_0  fashionhub.com  300x250  US    23     desktop      fashion_lover   \n",
      "1  imp_1        news.com  300x250  CA    16      tablet  sports_enthusiast   \n",
      "2  imp_1        news.com  300x250  CA    16      tablet  sports_enthusiast   \n",
      "3  imp_1        news.com  300x250  CA    16      tablet  sports_enthusiast   \n",
      "4  imp_2  fashionhub.com   728x90  US    23     desktop  sports_enthusiast   \n",
      "\n",
      "   deal_id buyer_id  bidfloor        deal_type  past_win_rate  label  \n",
      "0  deal_18  buyer_2      1.39        preferred           0.59      1  \n",
      "1  deal_26  buyer_9      0.90  private_auction           0.59      0  \n",
      "2   deal_1  buyer_3      1.43  private_auction           0.28      0  \n",
      "3  deal_98  buyer_6      0.29  private_auction           0.10      0  \n",
      "4  deal_11  buyer_9      0.66  private_auction           0.58      0  \n"
     ]
    }
   ],
   "source": [
    "dataset = pd.read_csv(\"/Users/sathviknookala/Desktop/PMP_Deal_Ranking_Model/Synthetic_PMP_Dataset.csv\")\n",
    "print(dataset.head())"
   ]
  },
  {
   "cell_type": "code",
   "execution_count": null,
   "metadata": {},
   "outputs": [],
   "source": [
    "# First, identify categorical and numerical columns\n",
    "categorical_columns = ['site_domain', 'ad_size', 'geo', 'device_type', 'user_segment', \n",
    "                      'deal_id', 'buyer_id', 'deal_type']\n",
    "numerical_columns = ['hour', 'bidfloor', 'past_win_rate']\n",
    "\n",
    "# Create dummy variables for categorical columns\n",
    "X_categorical = pd.get_dummies(dataset[categorical_columns])\n",
    "\n",
    "# Get numerical features\n",
    "X_numerical = dataset[numerical_columns]\n",
    "\n",
    "# Combine numerical and categorical features\n",
    "X = pd.concat([X_numerical, X_categorical], axis=1)\n",
    "\n",
    "# Scale numerical features\n",
    "scaler = StandardScaler()\n",
    "X[numerical_columns] = scaler.fit_transform(X[numerical_columns])\n",
    "\n",
    "# Get labels\n",
    "y = dataset['label']\n",
    "\n",
    "# Convert to tensors\n",
    "X_tensor = torch.FloatTensor(X.values).to(device)\n",
    "y_tensor = torch.FloatTensor(y.values).to(device)\n",
    "\n",
    "# Print shapes to verify\n",
    "print(\"X tensor shape:\", X_tensor.shape)\n",
    "print(\"y tensor shape:\", y_tensor.shape)"
   ]
  }
 ],
 "metadata": {
  "kernelspec": {
   "display_name": "Python (pytorch)",
   "language": "python",
   "name": "pytorch"
  },
  "language_info": {
   "codemirror_mode": {
    "name": "ipython",
    "version": 3
   },
   "file_extension": ".py",
   "mimetype": "text/x-python",
   "name": "python",
   "nbconvert_exporter": "python",
   "pygments_lexer": "ipython3",
   "version": "3.9.21"
  }
 },
 "nbformat": 4,
 "nbformat_minor": 2
}
